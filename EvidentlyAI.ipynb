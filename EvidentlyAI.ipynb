{
 "cells": [
  {
   "cell_type": "code",
   "execution_count": 1,
   "id": "97439f95",
   "metadata": {},
   "outputs": [],
   "source": [
    "# We cant use latest version of plotly as it throws error\n",
    "# !pip install plotly=5.6.0"
   ]
  },
  {
   "cell_type": "code",
   "execution_count": 11,
   "id": "d2ef9515",
   "metadata": {},
   "outputs": [],
   "source": [
    "import pandas as pd\n",
    "from evidently import ColumnMapping\n",
    "from evidently.options import DataDriftOptions\n",
    "from evidently.metrics import DatasetDriftMetric\n",
    "from evidently.metrics import DataDriftTable\n",
    "from evidently.options import ColorOptions\n",
    "from evidently.test_suite import TestSuite\n",
    "from evidently.tests import *\n",
    "from evidently.report import Report\n",
    "import json"
   ]
  },
  {
   "cell_type": "code",
   "execution_count": 22,
   "id": "a689b4ce",
   "metadata": {},
   "outputs": [],
   "source": [
    "data=pd.read_csv(r\"C:\\Users\\syhussain\\OneDrive - Huron Consulting Group\\Desktop\\Hydra\\data\\raw_data\\data.csv\")\n",
    "data.head()"
   ]
  },
  {
   "cell_type": "code",
   "execution_count": 23,
   "id": "82acfb41",
   "metadata": {},
   "outputs": [],
   "source": [
    "target = 'target'\n",
    "numerical_features=['doors','persons']\n",
    "categorical_features=['buying','maint','log_boot','safety']"
   ]
  },
  {
   "cell_type": "code",
   "execution_count": 18,
   "id": "27fae3c8",
   "metadata": {},
   "outputs": [],
   "source": [
    "test_data=pd.read_csv(r\"C:\\Users\\syhussain\\OneDrive - Huron Consulting Group\\Desktop\\EvidentlyAI\\test.csv\")"
   ]
  },
  {
   "cell_type": "code",
   "execution_count": 19,
   "id": "ee6c0dcf",
   "metadata": {},
   "outputs": [],
   "source": [
    "data1=data.drop(columns='target')"
   ]
  },
  {
   "cell_type": "code",
   "execution_count": 24,
   "id": "0eb823db",
   "metadata": {},
   "outputs": [],
   "source": [
    "data_drift_dataset_report = Report(metrics=[\n",
    "    DatasetDriftMetric(),\n",
    "    DataDriftTable(),    \n",
    "])\n",
    "data_drift_dataset_report.run(reference_data=reference_data, current_data=current_data)"
   ]
  },
  {
   "cell_type": "code",
   "execution_count": 25,
   "id": "e1d7dbff",
   "metadata": {},
   "outputs": [],
   "source": [
    "data_drift_dataset_report.save_html(r'C:\\Users\\syhussain\\OneDrive - Huron Consulting Group\\Desktop\\EvidentlyAI/data_drift_report1.html')"
   ]
  },
  {
   "cell_type": "code",
   "execution_count": 9,
   "id": "7788983a",
   "metadata": {},
   "outputs": [],
   "source": [
    "data_drift_dataset_report.save_json(r'C:\\Users\\syhussain\\OneDrive - Huron Consulting Group\\Desktop\\EvidentlyAI/data_drift_report.json')"
   ]
  },
  {
   "cell_type": "code",
   "execution_count": 12,
   "id": "f99e6ff5",
   "metadata": {},
   "outputs": [],
   "source": [
    "reports=data_drift_dataset_report.json()"
   ]
  },
  {
   "cell_type": "code",
   "execution_count": 30,
   "id": "51f6e734",
   "metadata": {},
   "outputs": [],
   "source": [
    "drift=json.loads(reports)['metrics']['DatasetDriftMetric']['dataset_drift']\n",
    "drift_percentage=json.loads(reports)['metrics']['DatasetDriftMetric']['share_of_drifted_columns']*100"
   ]
  },
  {
   "cell_type": "code",
   "execution_count": 31,
   "id": "6fd34259",
   "metadata": {},
   "outputs": [
    {
     "data": {
      "text/plain": [
       "True"
      ]
     },
     "execution_count": 31,
     "metadata": {},
     "output_type": "execute_result"
    }
   ],
   "source": [
    "drift"
   ]
  },
  {
   "cell_type": "code",
   "execution_count": 32,
   "id": "d288b375",
   "metadata": {},
   "outputs": [
    {
     "data": {
      "text/plain": [
       "50.0"
      ]
     },
     "execution_count": 32,
     "metadata": {},
     "output_type": "execute_result"
    }
   ],
   "source": [
    "drift_percentage"
   ]
  },
  {
   "cell_type": "code",
   "execution_count": null,
   "id": "75484558",
   "metadata": {},
   "outputs": [],
   "source": []
  }
 ],
 "metadata": {
  "kernelspec": {
   "display_name": "Python 3",
   "language": "python",
   "name": "python3"
  },
  "language_info": {
   "codemirror_mode": {
    "name": "ipython",
    "version": 3
   },
   "file_extension": ".py",
   "mimetype": "text/x-python",
   "name": "python",
   "nbconvert_exporter": "python",
   "pygments_lexer": "ipython3",
   "version": "3.8.8"
  }
 },
 "nbformat": 4,
 "nbformat_minor": 5
}
